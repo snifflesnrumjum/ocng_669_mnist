{
 "cells": [
  {
   "cell_type": "code",
   "execution_count": null,
   "metadata": {},
   "outputs": [],
   "source": [
    "import tensorflow.keras as keras\n",
    "import numpy as np\n",
    "import os\n",
    "import PIL\n",
    "from sklearn.metrics import classification_report, confusion_matrix\n",
    "import matplotlib.pyplot as plt\n",
    "%matplotlib inline"
   ]
  },
  {
   "cell_type": "markdown",
   "metadata": {},
   "source": [
    "### Load the data"
   ]
  },
  {
   "cell_type": "code",
   "execution_count": null,
   "metadata": {},
   "outputs": [],
   "source": [
    "indata = keras.datasets.mnist.load_data()"
   ]
  },
  {
   "cell_type": "code",
   "execution_count": null,
   "metadata": {},
   "outputs": [],
   "source": [
    "len(indata[1][1])"
   ]
  },
  {
   "cell_type": "markdown",
   "metadata": {},
   "source": [
    "### Split the data into a training set and a test set"
   ]
  },
  {
   "cell_type": "code",
   "execution_count": null,
   "metadata": {},
   "outputs": [],
   "source": [
    "training_data = indata[0]\n",
    "test_data = indata[1]\n"
   ]
  },
  {
   "cell_type": "markdown",
   "metadata": {},
   "source": [
    "### Create the neural network model that we'll use"
   ]
  },
  {
   "cell_type": "code",
   "execution_count": null,
   "metadata": {},
   "outputs": [],
   "source": [
    "input_layer = keras.layers.Input(shape=(28, 28, 1))\n",
    "model = keras.layers.Conv2D(32, (3,3))(input_layer)\n",
    "model = keras.layers.MaxPooling2D()(model)\n",
    "model = keras.layers.Conv2D(64, (3,3))(model)\n",
    "model = keras.layers.MaxPooling2D()(model)\n",
    "model = keras.layers.Flatten()(model)\n",
    "model = keras.layers.Dense(128)(model)\n",
    "model = keras.layers.Dropout(0.5)(model)\n",
    "model = keras.layers.Dense(10, activation='softmax')(model)\n",
    "\n",
    "model = keras.models.Model(inputs=[input_layer], outputs=[model])"
   ]
  },
  {
   "cell_type": "code",
   "execution_count": null,
   "metadata": {},
   "outputs": [],
   "source": [
    "adam = keras.optimizers.Adam()"
   ]
  },
  {
   "cell_type": "code",
   "execution_count": null,
   "metadata": {},
   "outputs": [],
   "source": [
    "model.compile(loss='sparse_categorical_crossentropy',\n",
    "             optimizer=adam,\n",
    "             metrics=['accuracy'],\n",
    "             )"
   ]
  },
  {
   "cell_type": "markdown",
   "metadata": {},
   "source": [
    "### Look at the model structure"
   ]
  },
  {
   "cell_type": "code",
   "execution_count": null,
   "metadata": {},
   "outputs": [],
   "source": [
    "model.summary()"
   ]
  },
  {
   "cell_type": "markdown",
   "metadata": {},
   "source": [
    "### Train the model \n",
    "Feed the images to the network and train it "
   ]
  },
  {
   "cell_type": "code",
   "execution_count": null,
   "metadata": {},
   "outputs": [],
   "source": [
    "model.fit(training_data[:].reshape(-1, 28, 28, 1), training_data[1][:],\n",
    "         epochs=5)"
   ]
  },
  {
   "cell_type": "code",
   "execution_count": null,
   "metadata": {},
   "outputs": [],
   "source": [
    "training_data[1][:10]"
   ]
  },
  {
   "cell_type": "markdown",
   "metadata": {},
   "source": [
    "### Now test our model on the set of data that was held out\n",
    "How well does it do with images it has never seen before?"
   ]
  },
  {
   "cell_type": "code",
   "execution_count": null,
   "metadata": {},
   "outputs": [],
   "source": [
    "Y_pred = model.predict(test_data[0][:].reshape(-1, 28, 28, 1)/255.)\n",
    "y_pred = np.argmax(Y_pred, axis=1)"
   ]
  },
  {
   "cell_type": "code",
   "execution_count": null,
   "metadata": {},
   "outputs": [],
   "source": [
    "print(classification_report(test_data[1][:], y_pred))"
   ]
  },
  {
   "cell_type": "markdown",
   "metadata": {},
   "source": [
    "### Mount the Google Drive with the edited images"
   ]
  },
  {
   "cell_type": "code",
   "execution_count": null,
   "metadata": {},
   "outputs": [],
   "source": [
    "from google.colab import drive\n",
    "drive.mount(\"/content/drive\")"
   ]
  },
  {
   "cell_type": "code",
   "execution_count": null,
   "metadata": {},
   "outputs": [],
   "source": [
    "indir = '/content/drive/MyDrive/numbers/2/'\n",
    "student_photos = []\n",
    "student_photos_arrays = []\n",
    "\n",
    "for infile in os.listdir(indir):\n",
    "    if infile[-3:] == 'png':\n",
    "        student_photos.append(PIL.Image.open(indir+infile))\n",
    "        student_photos_arrays.append(np.array(PIL.Image.open(indir+infile)))\n",
    "        "
   ]
  },
  {
   "cell_type": "markdown",
   "metadata": {},
   "source": [
    "How many images of the number 2 are there?"
   ]
  },
  {
   "cell_type": "code",
   "execution_count": null,
   "metadata": {},
   "outputs": [],
   "source": [
    "len(student_photos)"
   ]
  },
  {
   "cell_type": "markdown",
   "metadata": {},
   "source": [
    "### Take a look at the original images"
   ]
  },
  {
   "cell_type": "code",
   "execution_count": null,
   "metadata": {},
   "outputs": [],
   "source": [
    "student_photos[1]"
   ]
  },
  {
   "cell_type": "markdown",
   "metadata": {},
   "source": [
    "### The 'raw' data comprising the image"
   ]
  },
  {
   "cell_type": "code",
   "execution_count": null,
   "metadata": {},
   "outputs": [],
   "source": [
    "np.array(student_photos[0])"
   ]
  },
  {
   "cell_type": "code",
   "execution_count": null,
   "metadata": {},
   "outputs": [],
   "source": [
    "student_photos_arrays[0].shape"
   ]
  },
  {
   "cell_type": "code",
   "execution_count": null,
   "metadata": {},
   "outputs": [],
   "source": [
    "temp_input = np.array(student_photos[0].resize((28,28))).reshape(-1, 28, 28, 1)\n",
    "temp_input[temp_input < 0.1] = 0\n",
    "model.predict(temp_input)"
   ]
  },
  {
   "cell_type": "markdown",
   "metadata": {},
   "source": [
    "What happened here? 4 outputs with only 1 image input?"
   ]
  },
  {
   "cell_type": "markdown",
   "metadata": {},
   "source": [
    "### What does our original data look like?"
   ]
  },
  {
   "cell_type": "code",
   "execution_count": null,
   "metadata": {},
   "outputs": [],
   "source": [
    "print('Original data:', training_data[0].shape)\n",
    "print('Our data:', student_photos_arrays[0].shape)"
   ]
  },
  {
   "cell_type": "markdown",
   "metadata": {},
   "source": [
    "### What about the actual data itself?"
   ]
  },
  {
   "cell_type": "code",
   "execution_count": null,
   "metadata": {},
   "outputs": [],
   "source": [
    "training_data[0]"
   ]
  },
  {
   "cell_type": "code",
   "execution_count": null,
   "metadata": {},
   "outputs": [],
   "source": [
    "student_photos_arrays[0]"
   ]
  },
  {
   "cell_type": "markdown",
   "metadata": {},
   "source": [
    "### What's different about these two?\n",
    "Will that impact our model and our predictions?"
   ]
  },
  {
   "cell_type": "markdown",
   "metadata": {},
   "source": [
    "### Let's try out our data"
   ]
  },
  {
   "cell_type": "code",
   "execution_count": null,
   "metadata": {},
   "outputs": [],
   "source": [
    "image_size = 28\n",
    "indir = '/content/drive/MyDrive/numbers/'\n",
    "\n",
    "def edit_photo(inphoto):\n",
    "    out = inphoto - 255\n",
    "    out *= -1\n",
    "    out /= 255.\n",
    "    #out[out < 0.1] = 0.0\n",
    "    return out\n",
    "    \n",
    "input_photos = keras.preprocessing.image.ImageDataGenerator(preprocessing_function = edit_photo)\n",
    "photos = input_photos.flow_from_directory(indir, \n",
    "                                          shuffle=False,\n",
    "                                          color_mode='grayscale', #all ifcb images are grayscale\n",
    "                                          class_mode='sparse', #there are multiple classes of images (i.e. > 2)\n",
    "                                          target_size=(image_size,image_size),  #squish/stretch images to this size\n",
    "                                          batch_size=1)"
   ]
  },
  {
   "cell_type": "markdown",
   "metadata": {},
   "source": [
    "### Here's a look at our input data"
   ]
  },
  {
   "cell_type": "code",
   "execution_count": null,
   "metadata": {},
   "outputs": [],
   "source": [
    "plt.imshow(photos.next()[0][0].reshape(28,28), cmap='gray_r')"
   ]
  },
  {
   "cell_type": "markdown",
   "metadata": {},
   "source": []
  },
  {
   "cell_type": "code",
   "execution_count": null,
   "metadata": {},
   "outputs": [],
   "source": [
    "photos.reset()\n",
    "predictions = model.predict_generator(photos)"
   ]
  },
  {
   "cell_type": "code",
   "execution_count": null,
   "metadata": {
    "scrolled": true
   },
   "outputs": [],
   "source": [
    "for idx, indiv_number in enumerate(predictions):\n",
    "    print(np.argmax(indiv_number), photos.classes[idx], indiv_number)"
   ]
  },
  {
   "cell_type": "code",
   "execution_count": null,
   "metadata": {},
   "outputs": [],
   "source": [
    "student_photos[0].resize((28,28))"
   ]
  },
  {
   "cell_type": "code",
   "execution_count": null,
   "metadata": {},
   "outputs": [],
   "source": [
    "plt.imshow(temp_input.reshape(28, 28))"
   ]
  },
  {
   "cell_type": "code",
   "execution_count": null,
   "metadata": {
    "scrolled": false
   },
   "outputs": [],
   "source": [
    "fig = plt.figure()\n",
    "fig = plt.subplots(22, 4, figsize=(15,55))\n",
    "photos.reset()\n",
    "\n",
    "for idx, indiv_number in enumerate(predictions):\n",
    "    plt.subplot(22,4,idx+1)\n",
    "    temp = photos.next()\n",
    "    plt.imshow(temp[0].reshape(28,28), cmap = 'gray_r')\n",
    "    plt.annotate('{}, {}'.format(np.argmax(indiv_number), photos.classes[idx]), (1,4))\n",
    "    plt.annotate('{:2.2f}'.format(indiv_number[np.argmax(indiv_number)]), (1,27))\n",
    "    \n",
    "plt.tight_layout()"
   ]
  },
  {
   "cell_type": "markdown",
   "metadata": {},
   "source": [
    "### Reduce the learning rate"
   ]
  },
  {
   "cell_type": "code",
   "execution_count": null,
   "metadata": {},
   "outputs": [],
   "source": [
    "model.optimizer.lr = 0.0002"
   ]
  },
  {
   "cell_type": "markdown",
   "metadata": {},
   "source": [
    "### Add some noise to the training set to mimic our images"
   ]
  },
  {
   "cell_type": "code",
   "execution_count": null,
   "metadata": {},
   "outputs": [],
   "source": [
    "#add some noise to the training images\n",
    "noisy_training_data = training_data[0].copy()/255.\n",
    "for idx, x, in enumerate(noisy_training_data):\n",
    "    noise = np.random.rand(28*28).reshape(28, 28) / 2.\n",
    "    noisy_training_data[idx] += noise\n",
    "    "
   ]
  },
  {
   "cell_type": "markdown",
   "metadata": {},
   "source": [
    "Here's what the noisy data look like:"
   ]
  },
  {
   "cell_type": "code",
   "execution_count": null,
   "metadata": {},
   "outputs": [],
   "source": [
    "plt.imshow(noisy_training_data[105], cmap='gray_r')"
   ]
  },
  {
   "cell_type": "markdown",
   "metadata": {},
   "source": [
    "And here's the original data:"
   ]
  },
  {
   "cell_type": "code",
   "execution_count": null,
   "metadata": {},
   "outputs": [],
   "source": [
    "plt.imshow(training_data[105], cmap='gray_r')"
   ]
  },
  {
   "cell_type": "code",
   "execution_count": null,
   "metadata": {},
   "outputs": [],
   "source": [
    "model.fit(noisy_training_data[:].reshape(-1, 28, 28, 1), training_data[1][:],\n",
    "         epochs=1)"
   ]
  },
  {
   "cell_type": "markdown",
   "metadata": {},
   "source": [
    "### Try training with a few of our images\n",
    "Does it help?"
   ]
  },
  {
   "cell_type": "code",
   "execution_count": null,
   "metadata": {},
   "outputs": [],
   "source": [
    "temp = photos.next()\n",
    "temp_num = temp[0][0]\n",
    "temp_target = temp[1]\n",
    "plt.imshow(temp_num.reshape(28,28))"
   ]
  },
  {
   "cell_type": "code",
   "execution_count": null,
   "metadata": {},
   "outputs": [],
   "source": [
    "#went through and made sure that 9 was next\n",
    "\n",
    "model.fit(temp_num.reshape(-1, 28, 28, 1), np.array([temp_target]), epochs = 1)"
   ]
  },
  {
   "cell_type": "code",
   "execution_count": null,
   "metadata": {},
   "outputs": [],
   "source": [
    "photos.reset()\n",
    "predictions = model.predict_generator(photos)"
   ]
  },
  {
   "cell_type": "code",
   "execution_count": null,
   "metadata": {},
   "outputs": [],
   "source": [
    "fig = plt.figure()\n",
    "fig = plt.subplots(22, 4, figsize=(15,55))\n",
    "photos.reset()\n",
    "\n",
    "for idx, indiv_number in enumerate(predictions):\n",
    "    plt.subplot(22,4,idx+1)\n",
    "    temp = photos.next()\n",
    "    plt.imshow(temp[0].reshape(28,28), cmap = 'gray_r')\n",
    "    plt.annotate('{}, {}'.format(np.argmax(indiv_number), photos.classes[idx]), (1,4))\n",
    "    plt.annotate('{:2.2f}'.format(indiv_number[np.argmax(indiv_number)]), (1,27))\n",
    "    \n",
    "plt.tight_layout()"
   ]
  }
 ],
 "metadata": {
  "kernelspec": {
   "display_name": "Python 3",
   "language": "python",
   "name": "python3"
  },
  "language_info": {
   "codemirror_mode": {
    "name": "ipython",
    "version": 3
   },
   "file_extension": ".py",
   "mimetype": "text/x-python",
   "name": "python",
   "nbconvert_exporter": "python",
   "pygments_lexer": "ipython3",
   "version": "3.6.9"
  }
 },
 "nbformat": 4,
 "nbformat_minor": 2
}
